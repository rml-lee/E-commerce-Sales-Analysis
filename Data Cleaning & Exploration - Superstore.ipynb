{
 "cells": [
  {
   "metadata": {},
   "cell_type": "markdown",
   "source": "# Data Cleaning & Exploration - Superstore",
   "id": "d637762abb29f19f"
  },
  {
   "metadata": {},
   "cell_type": "markdown",
   "source": "## Import Libraries",
   "id": "c2e792b5e97d5fd2"
  },
  {
   "metadata": {
    "ExecuteTime": {
     "end_time": "2024-09-19T16:43:48.525181Z",
     "start_time": "2024-09-19T16:43:39.219304Z"
    }
   },
   "cell_type": "code",
   "source": [
    "# Import packages\n",
    "import pandas as pd\n",
    "import numpy as np"
   ],
   "id": "initial_id",
   "outputs": [],
   "execution_count": 1
  },
  {
   "metadata": {},
   "cell_type": "markdown",
   "source": "## Load Dataset",
   "id": "31b2c14d0b55fc66"
  },
  {
   "metadata": {
    "ExecuteTime": {
     "end_time": "2024-09-19T16:43:48.576767Z",
     "start_time": "2024-09-19T16:43:48.529612Z"
    }
   },
   "cell_type": "code",
   "source": [
    "# Import dataset\n",
    "ss = pd.read_csv('/Users/raheem-gsu/Documents/Github Portfolio Projects/E-commerce-Sales-Analysis/Datasets/Sample - Superstore.csv')"
   ],
   "id": "4d7a1257ec135d9",
   "outputs": [],
   "execution_count": 2
  },
  {
   "metadata": {},
   "cell_type": "markdown",
   "source": "## Initial Data Inspection",
   "id": "dae4d67c40e66bfc"
  },
  {
   "metadata": {
    "ExecuteTime": {
     "end_time": "2024-09-19T16:43:48.705183Z",
     "start_time": "2024-09-19T16:43:48.685771Z"
    }
   },
   "cell_type": "code",
   "source": [
    "# View dataset\n",
    "ss.head()"
   ],
   "id": "dafa6cda8f3e7638",
   "outputs": [
    {
     "data": {
      "text/plain": [
       "   row_id        order_id  order_date   ship_date       ship_mode customer_id  \\\n",
       "0       1  CA-2016-152156   11/8/2016  11/11/2016    Second Class    CG-12520   \n",
       "1       2  CA-2016-152156   11/8/2016  11/11/2016    Second Class    CG-12520   \n",
       "2       3  CA-2016-138688   6/12/2016   6/16/2016    Second Class    DV-13045   \n",
       "3       4  US-2015-108966  10/11/2015  10/18/2015  Standard Class    SO-20335   \n",
       "4       5  US-2015-108966  10/11/2015  10/18/2015  Standard Class    SO-20335   \n",
       "\n",
       "     customer_name    segment        country             city  ...  \\\n",
       "0      Claire Gute   Consumer  United States        Henderson  ...   \n",
       "1      Claire Gute   Consumer  United States        Henderson  ...   \n",
       "2  Darrin Van Huff  Corporate  United States      Los Angeles  ...   \n",
       "3   Sean O'Donnell   Consumer  United States  Fort Lauderdale  ...   \n",
       "4   Sean O'Donnell   Consumer  United States  Fort Lauderdale  ...   \n",
       "\n",
       "  postal_code  region       product_id         category sub_category  \\\n",
       "0       42420   South  FUR-BO-10001798        Furniture    Bookcases   \n",
       "1       42420   South  FUR-CH-10000454        Furniture       Chairs   \n",
       "2       90036    West  OFF-LA-10000240  Office Supplies       Labels   \n",
       "3       33311   South  FUR-TA-10000577        Furniture       Tables   \n",
       "4       33311   South  OFF-ST-10000760  Office Supplies      Storage   \n",
       "\n",
       "                                        product_name     sales  quantity  \\\n",
       "0                  Bush Somerset Collection Bookcase  261.9600         2   \n",
       "1  Hon Deluxe Fabric Upholstered Stacking Chairs,...  731.9400         3   \n",
       "2  Self-Adhesive Address Labels for Typewriters b...   14.6200         2   \n",
       "3      Bretford CR4500 Series Slim Rectangular Table  957.5775         5   \n",
       "4                     Eldon Fold 'N Roll Cart System   22.3680         2   \n",
       "\n",
       "   discount    profit  \n",
       "0      0.00   41.9136  \n",
       "1      0.00  219.5820  \n",
       "2      0.00    6.8714  \n",
       "3      0.45 -383.0310  \n",
       "4      0.20    2.5164  \n",
       "\n",
       "[5 rows x 21 columns]"
      ],
      "text/html": [
       "<div>\n",
       "<style scoped>\n",
       "    .dataframe tbody tr th:only-of-type {\n",
       "        vertical-align: middle;\n",
       "    }\n",
       "\n",
       "    .dataframe tbody tr th {\n",
       "        vertical-align: top;\n",
       "    }\n",
       "\n",
       "    .dataframe thead th {\n",
       "        text-align: right;\n",
       "    }\n",
       "</style>\n",
       "<table border=\"1\" class=\"dataframe\">\n",
       "  <thead>\n",
       "    <tr style=\"text-align: right;\">\n",
       "      <th></th>\n",
       "      <th>row_id</th>\n",
       "      <th>order_id</th>\n",
       "      <th>order_date</th>\n",
       "      <th>ship_date</th>\n",
       "      <th>ship_mode</th>\n",
       "      <th>customer_id</th>\n",
       "      <th>customer_name</th>\n",
       "      <th>segment</th>\n",
       "      <th>country</th>\n",
       "      <th>city</th>\n",
       "      <th>...</th>\n",
       "      <th>postal_code</th>\n",
       "      <th>region</th>\n",
       "      <th>product_id</th>\n",
       "      <th>category</th>\n",
       "      <th>sub_category</th>\n",
       "      <th>product_name</th>\n",
       "      <th>sales</th>\n",
       "      <th>quantity</th>\n",
       "      <th>discount</th>\n",
       "      <th>profit</th>\n",
       "    </tr>\n",
       "  </thead>\n",
       "  <tbody>\n",
       "    <tr>\n",
       "      <th>0</th>\n",
       "      <td>1</td>\n",
       "      <td>CA-2016-152156</td>\n",
       "      <td>11/8/2016</td>\n",
       "      <td>11/11/2016</td>\n",
       "      <td>Second Class</td>\n",
       "      <td>CG-12520</td>\n",
       "      <td>Claire Gute</td>\n",
       "      <td>Consumer</td>\n",
       "      <td>United States</td>\n",
       "      <td>Henderson</td>\n",
       "      <td>...</td>\n",
       "      <td>42420</td>\n",
       "      <td>South</td>\n",
       "      <td>FUR-BO-10001798</td>\n",
       "      <td>Furniture</td>\n",
       "      <td>Bookcases</td>\n",
       "      <td>Bush Somerset Collection Bookcase</td>\n",
       "      <td>261.9600</td>\n",
       "      <td>2</td>\n",
       "      <td>0.00</td>\n",
       "      <td>41.9136</td>\n",
       "    </tr>\n",
       "    <tr>\n",
       "      <th>1</th>\n",
       "      <td>2</td>\n",
       "      <td>CA-2016-152156</td>\n",
       "      <td>11/8/2016</td>\n",
       "      <td>11/11/2016</td>\n",
       "      <td>Second Class</td>\n",
       "      <td>CG-12520</td>\n",
       "      <td>Claire Gute</td>\n",
       "      <td>Consumer</td>\n",
       "      <td>United States</td>\n",
       "      <td>Henderson</td>\n",
       "      <td>...</td>\n",
       "      <td>42420</td>\n",
       "      <td>South</td>\n",
       "      <td>FUR-CH-10000454</td>\n",
       "      <td>Furniture</td>\n",
       "      <td>Chairs</td>\n",
       "      <td>Hon Deluxe Fabric Upholstered Stacking Chairs,...</td>\n",
       "      <td>731.9400</td>\n",
       "      <td>3</td>\n",
       "      <td>0.00</td>\n",
       "      <td>219.5820</td>\n",
       "    </tr>\n",
       "    <tr>\n",
       "      <th>2</th>\n",
       "      <td>3</td>\n",
       "      <td>CA-2016-138688</td>\n",
       "      <td>6/12/2016</td>\n",
       "      <td>6/16/2016</td>\n",
       "      <td>Second Class</td>\n",
       "      <td>DV-13045</td>\n",
       "      <td>Darrin Van Huff</td>\n",
       "      <td>Corporate</td>\n",
       "      <td>United States</td>\n",
       "      <td>Los Angeles</td>\n",
       "      <td>...</td>\n",
       "      <td>90036</td>\n",
       "      <td>West</td>\n",
       "      <td>OFF-LA-10000240</td>\n",
       "      <td>Office Supplies</td>\n",
       "      <td>Labels</td>\n",
       "      <td>Self-Adhesive Address Labels for Typewriters b...</td>\n",
       "      <td>14.6200</td>\n",
       "      <td>2</td>\n",
       "      <td>0.00</td>\n",
       "      <td>6.8714</td>\n",
       "    </tr>\n",
       "    <tr>\n",
       "      <th>3</th>\n",
       "      <td>4</td>\n",
       "      <td>US-2015-108966</td>\n",
       "      <td>10/11/2015</td>\n",
       "      <td>10/18/2015</td>\n",
       "      <td>Standard Class</td>\n",
       "      <td>SO-20335</td>\n",
       "      <td>Sean O'Donnell</td>\n",
       "      <td>Consumer</td>\n",
       "      <td>United States</td>\n",
       "      <td>Fort Lauderdale</td>\n",
       "      <td>...</td>\n",
       "      <td>33311</td>\n",
       "      <td>South</td>\n",
       "      <td>FUR-TA-10000577</td>\n",
       "      <td>Furniture</td>\n",
       "      <td>Tables</td>\n",
       "      <td>Bretford CR4500 Series Slim Rectangular Table</td>\n",
       "      <td>957.5775</td>\n",
       "      <td>5</td>\n",
       "      <td>0.45</td>\n",
       "      <td>-383.0310</td>\n",
       "    </tr>\n",
       "    <tr>\n",
       "      <th>4</th>\n",
       "      <td>5</td>\n",
       "      <td>US-2015-108966</td>\n",
       "      <td>10/11/2015</td>\n",
       "      <td>10/18/2015</td>\n",
       "      <td>Standard Class</td>\n",
       "      <td>SO-20335</td>\n",
       "      <td>Sean O'Donnell</td>\n",
       "      <td>Consumer</td>\n",
       "      <td>United States</td>\n",
       "      <td>Fort Lauderdale</td>\n",
       "      <td>...</td>\n",
       "      <td>33311</td>\n",
       "      <td>South</td>\n",
       "      <td>OFF-ST-10000760</td>\n",
       "      <td>Office Supplies</td>\n",
       "      <td>Storage</td>\n",
       "      <td>Eldon Fold 'N Roll Cart System</td>\n",
       "      <td>22.3680</td>\n",
       "      <td>2</td>\n",
       "      <td>0.20</td>\n",
       "      <td>2.5164</td>\n",
       "    </tr>\n",
       "  </tbody>\n",
       "</table>\n",
       "<p>5 rows × 21 columns</p>\n",
       "</div>"
      ]
     },
     "execution_count": 3,
     "metadata": {},
     "output_type": "execute_result"
    }
   ],
   "execution_count": 3
  },
  {
   "metadata": {
    "ExecuteTime": {
     "end_time": "2024-09-19T16:43:48.780125Z",
     "start_time": "2024-09-19T16:43:48.765697Z"
    }
   },
   "cell_type": "code",
   "source": [
    "# Dataset information\n",
    "ss.info()"
   ],
   "id": "e731706dca654028",
   "outputs": [
    {
     "name": "stdout",
     "output_type": "stream",
     "text": [
      "<class 'pandas.core.frame.DataFrame'>\n",
      "RangeIndex: 9994 entries, 0 to 9993\n",
      "Data columns (total 21 columns):\n",
      " #   Column         Non-Null Count  Dtype  \n",
      "---  ------         --------------  -----  \n",
      " 0   row_id         9994 non-null   int64  \n",
      " 1   order_id       9994 non-null   object \n",
      " 2   order_date     9994 non-null   object \n",
      " 3   ship_date      9994 non-null   object \n",
      " 4   ship_mode      9994 non-null   object \n",
      " 5   customer_id    9994 non-null   object \n",
      " 6   customer_name  9994 non-null   object \n",
      " 7   segment        9994 non-null   object \n",
      " 8   country        9994 non-null   object \n",
      " 9   city           9994 non-null   object \n",
      " 10  state          9994 non-null   object \n",
      " 11  postal_code    9994 non-null   int64  \n",
      " 12  region         9994 non-null   object \n",
      " 13  product_id     9994 non-null   object \n",
      " 14  category       9994 non-null   object \n",
      " 15  sub_category   9994 non-null   object \n",
      " 16  product_name   9994 non-null   object \n",
      " 17  sales          9994 non-null   float64\n",
      " 18  quantity       9994 non-null   int64  \n",
      " 19  discount       9994 non-null   float64\n",
      " 20  profit         9994 non-null   float64\n",
      "dtypes: float64(3), int64(3), object(15)\n",
      "memory usage: 1.6+ MB\n"
     ]
    }
   ],
   "execution_count": 4
  },
  {
   "metadata": {},
   "cell_type": "markdown",
   "source": "# Data Cleaning",
   "id": "5c4ad9882a63b638"
  },
  {
   "metadata": {
    "ExecuteTime": {
     "end_time": "2024-09-19T16:43:48.843926Z",
     "start_time": "2024-09-19T16:43:48.824723Z"
    }
   },
   "cell_type": "code",
   "source": [
    "# Original row count: 9994\n",
    "\n",
    "# Drop duplicate rows\n",
    "ss.drop_duplicates(inplace=True)\n",
    "ss.shape"
   ],
   "id": "ba30878aee0af79e",
   "outputs": [
    {
     "data": {
      "text/plain": [
       "(9994, 21)"
      ]
     },
     "execution_count": 5,
     "metadata": {},
     "output_type": "execute_result"
    }
   ],
   "execution_count": 5
  },
  {
   "metadata": {
    "ExecuteTime": {
     "end_time": "2024-09-19T16:43:48.917159Z",
     "start_time": "2024-09-19T16:43:48.896560Z"
    }
   },
   "cell_type": "code",
   "source": [
    "# Change order_date and ship_date to default DATE format\n",
    "ss['order_date'] = pd.to_datetime(ss['order_date'])\n",
    "ss['ship_date'] = pd.to_datetime(ss['ship_date'])\n",
    "ss[['order_date', 'ship_date']].head(20)"
   ],
   "id": "2539884480f401b3",
   "outputs": [
    {
     "data": {
      "text/plain": [
       "   order_date  ship_date\n",
       "0  2016-11-08 2016-11-11\n",
       "1  2016-11-08 2016-11-11\n",
       "2  2016-06-12 2016-06-16\n",
       "3  2015-10-11 2015-10-18\n",
       "4  2015-10-11 2015-10-18\n",
       "5  2014-06-09 2014-06-14\n",
       "6  2014-06-09 2014-06-14\n",
       "7  2014-06-09 2014-06-14\n",
       "8  2014-06-09 2014-06-14\n",
       "9  2014-06-09 2014-06-14\n",
       "10 2014-06-09 2014-06-14\n",
       "11 2014-06-09 2014-06-14\n",
       "12 2017-04-15 2017-04-20\n",
       "13 2016-12-05 2016-12-10\n",
       "14 2015-11-22 2015-11-26\n",
       "15 2015-11-22 2015-11-26\n",
       "16 2014-11-11 2014-11-18\n",
       "17 2014-05-13 2014-05-15\n",
       "18 2014-08-27 2014-09-01\n",
       "19 2014-08-27 2014-09-01"
      ],
      "text/html": [
       "<div>\n",
       "<style scoped>\n",
       "    .dataframe tbody tr th:only-of-type {\n",
       "        vertical-align: middle;\n",
       "    }\n",
       "\n",
       "    .dataframe tbody tr th {\n",
       "        vertical-align: top;\n",
       "    }\n",
       "\n",
       "    .dataframe thead th {\n",
       "        text-align: right;\n",
       "    }\n",
       "</style>\n",
       "<table border=\"1\" class=\"dataframe\">\n",
       "  <thead>\n",
       "    <tr style=\"text-align: right;\">\n",
       "      <th></th>\n",
       "      <th>order_date</th>\n",
       "      <th>ship_date</th>\n",
       "    </tr>\n",
       "  </thead>\n",
       "  <tbody>\n",
       "    <tr>\n",
       "      <th>0</th>\n",
       "      <td>2016-11-08</td>\n",
       "      <td>2016-11-11</td>\n",
       "    </tr>\n",
       "    <tr>\n",
       "      <th>1</th>\n",
       "      <td>2016-11-08</td>\n",
       "      <td>2016-11-11</td>\n",
       "    </tr>\n",
       "    <tr>\n",
       "      <th>2</th>\n",
       "      <td>2016-06-12</td>\n",
       "      <td>2016-06-16</td>\n",
       "    </tr>\n",
       "    <tr>\n",
       "      <th>3</th>\n",
       "      <td>2015-10-11</td>\n",
       "      <td>2015-10-18</td>\n",
       "    </tr>\n",
       "    <tr>\n",
       "      <th>4</th>\n",
       "      <td>2015-10-11</td>\n",
       "      <td>2015-10-18</td>\n",
       "    </tr>\n",
       "    <tr>\n",
       "      <th>5</th>\n",
       "      <td>2014-06-09</td>\n",
       "      <td>2014-06-14</td>\n",
       "    </tr>\n",
       "    <tr>\n",
       "      <th>6</th>\n",
       "      <td>2014-06-09</td>\n",
       "      <td>2014-06-14</td>\n",
       "    </tr>\n",
       "    <tr>\n",
       "      <th>7</th>\n",
       "      <td>2014-06-09</td>\n",
       "      <td>2014-06-14</td>\n",
       "    </tr>\n",
       "    <tr>\n",
       "      <th>8</th>\n",
       "      <td>2014-06-09</td>\n",
       "      <td>2014-06-14</td>\n",
       "    </tr>\n",
       "    <tr>\n",
       "      <th>9</th>\n",
       "      <td>2014-06-09</td>\n",
       "      <td>2014-06-14</td>\n",
       "    </tr>\n",
       "    <tr>\n",
       "      <th>10</th>\n",
       "      <td>2014-06-09</td>\n",
       "      <td>2014-06-14</td>\n",
       "    </tr>\n",
       "    <tr>\n",
       "      <th>11</th>\n",
       "      <td>2014-06-09</td>\n",
       "      <td>2014-06-14</td>\n",
       "    </tr>\n",
       "    <tr>\n",
       "      <th>12</th>\n",
       "      <td>2017-04-15</td>\n",
       "      <td>2017-04-20</td>\n",
       "    </tr>\n",
       "    <tr>\n",
       "      <th>13</th>\n",
       "      <td>2016-12-05</td>\n",
       "      <td>2016-12-10</td>\n",
       "    </tr>\n",
       "    <tr>\n",
       "      <th>14</th>\n",
       "      <td>2015-11-22</td>\n",
       "      <td>2015-11-26</td>\n",
       "    </tr>\n",
       "    <tr>\n",
       "      <th>15</th>\n",
       "      <td>2015-11-22</td>\n",
       "      <td>2015-11-26</td>\n",
       "    </tr>\n",
       "    <tr>\n",
       "      <th>16</th>\n",
       "      <td>2014-11-11</td>\n",
       "      <td>2014-11-18</td>\n",
       "    </tr>\n",
       "    <tr>\n",
       "      <th>17</th>\n",
       "      <td>2014-05-13</td>\n",
       "      <td>2014-05-15</td>\n",
       "    </tr>\n",
       "    <tr>\n",
       "      <th>18</th>\n",
       "      <td>2014-08-27</td>\n",
       "      <td>2014-09-01</td>\n",
       "    </tr>\n",
       "    <tr>\n",
       "      <th>19</th>\n",
       "      <td>2014-08-27</td>\n",
       "      <td>2014-09-01</td>\n",
       "    </tr>\n",
       "  </tbody>\n",
       "</table>\n",
       "</div>"
      ]
     },
     "execution_count": 6,
     "metadata": {},
     "output_type": "execute_result"
    }
   ],
   "execution_count": 6
  },
  {
   "metadata": {
    "ExecuteTime": {
     "end_time": "2024-09-19T16:43:49.024731Z",
     "start_time": "2024-09-19T16:43:49.012396Z"
    }
   },
   "cell_type": "code",
   "source": [
    "# For simplicity, we're going to round the sales and profit columns by two decimal points.\n",
    "ss['sales'] = round(ss['sales'], 2)\n",
    "ss['profit'] = round(ss['profit'], 2)\n",
    "ss[['sales', 'profit']].head(20)"
   ],
   "id": "6f4071cc765f6081",
   "outputs": [
    {
     "data": {
      "text/plain": [
       "      sales  profit\n",
       "0    261.96   41.91\n",
       "1    731.94  219.58\n",
       "2     14.62    6.87\n",
       "3    957.58 -383.03\n",
       "4     22.37    2.52\n",
       "5     48.86   14.17\n",
       "6      7.28    1.97\n",
       "7    907.15   90.72\n",
       "8     18.50    5.78\n",
       "9    114.90   34.47\n",
       "10  1706.18   85.31\n",
       "11   911.42   68.36\n",
       "12    15.55    5.44\n",
       "13   407.98  132.59\n",
       "14    68.81 -123.86\n",
       "15     2.54   -3.82\n",
       "16   665.88   13.32\n",
       "17    55.50    9.99\n",
       "18     8.56    2.48\n",
       "19   213.48   16.01"
      ],
      "text/html": [
       "<div>\n",
       "<style scoped>\n",
       "    .dataframe tbody tr th:only-of-type {\n",
       "        vertical-align: middle;\n",
       "    }\n",
       "\n",
       "    .dataframe tbody tr th {\n",
       "        vertical-align: top;\n",
       "    }\n",
       "\n",
       "    .dataframe thead th {\n",
       "        text-align: right;\n",
       "    }\n",
       "</style>\n",
       "<table border=\"1\" class=\"dataframe\">\n",
       "  <thead>\n",
       "    <tr style=\"text-align: right;\">\n",
       "      <th></th>\n",
       "      <th>sales</th>\n",
       "      <th>profit</th>\n",
       "    </tr>\n",
       "  </thead>\n",
       "  <tbody>\n",
       "    <tr>\n",
       "      <th>0</th>\n",
       "      <td>261.96</td>\n",
       "      <td>41.91</td>\n",
       "    </tr>\n",
       "    <tr>\n",
       "      <th>1</th>\n",
       "      <td>731.94</td>\n",
       "      <td>219.58</td>\n",
       "    </tr>\n",
       "    <tr>\n",
       "      <th>2</th>\n",
       "      <td>14.62</td>\n",
       "      <td>6.87</td>\n",
       "    </tr>\n",
       "    <tr>\n",
       "      <th>3</th>\n",
       "      <td>957.58</td>\n",
       "      <td>-383.03</td>\n",
       "    </tr>\n",
       "    <tr>\n",
       "      <th>4</th>\n",
       "      <td>22.37</td>\n",
       "      <td>2.52</td>\n",
       "    </tr>\n",
       "    <tr>\n",
       "      <th>5</th>\n",
       "      <td>48.86</td>\n",
       "      <td>14.17</td>\n",
       "    </tr>\n",
       "    <tr>\n",
       "      <th>6</th>\n",
       "      <td>7.28</td>\n",
       "      <td>1.97</td>\n",
       "    </tr>\n",
       "    <tr>\n",
       "      <th>7</th>\n",
       "      <td>907.15</td>\n",
       "      <td>90.72</td>\n",
       "    </tr>\n",
       "    <tr>\n",
       "      <th>8</th>\n",
       "      <td>18.50</td>\n",
       "      <td>5.78</td>\n",
       "    </tr>\n",
       "    <tr>\n",
       "      <th>9</th>\n",
       "      <td>114.90</td>\n",
       "      <td>34.47</td>\n",
       "    </tr>\n",
       "    <tr>\n",
       "      <th>10</th>\n",
       "      <td>1706.18</td>\n",
       "      <td>85.31</td>\n",
       "    </tr>\n",
       "    <tr>\n",
       "      <th>11</th>\n",
       "      <td>911.42</td>\n",
       "      <td>68.36</td>\n",
       "    </tr>\n",
       "    <tr>\n",
       "      <th>12</th>\n",
       "      <td>15.55</td>\n",
       "      <td>5.44</td>\n",
       "    </tr>\n",
       "    <tr>\n",
       "      <th>13</th>\n",
       "      <td>407.98</td>\n",
       "      <td>132.59</td>\n",
       "    </tr>\n",
       "    <tr>\n",
       "      <th>14</th>\n",
       "      <td>68.81</td>\n",
       "      <td>-123.86</td>\n",
       "    </tr>\n",
       "    <tr>\n",
       "      <th>15</th>\n",
       "      <td>2.54</td>\n",
       "      <td>-3.82</td>\n",
       "    </tr>\n",
       "    <tr>\n",
       "      <th>16</th>\n",
       "      <td>665.88</td>\n",
       "      <td>13.32</td>\n",
       "    </tr>\n",
       "    <tr>\n",
       "      <th>17</th>\n",
       "      <td>55.50</td>\n",
       "      <td>9.99</td>\n",
       "    </tr>\n",
       "    <tr>\n",
       "      <th>18</th>\n",
       "      <td>8.56</td>\n",
       "      <td>2.48</td>\n",
       "    </tr>\n",
       "    <tr>\n",
       "      <th>19</th>\n",
       "      <td>213.48</td>\n",
       "      <td>16.01</td>\n",
       "    </tr>\n",
       "  </tbody>\n",
       "</table>\n",
       "</div>"
      ]
     },
     "execution_count": 7,
     "metadata": {},
     "output_type": "execute_result"
    }
   ],
   "execution_count": 7
  },
  {
   "metadata": {
    "ExecuteTime": {
     "end_time": "2024-09-19T16:43:49.075431Z",
     "start_time": "2024-09-19T16:43:49.064364Z"
    }
   },
   "cell_type": "code",
   "source": [
    "# View customer names with junk characters\n",
    "pattern = r'[^a-zA-Z0-9\\s]'\n",
    "\n",
    "ss[ss['customer_name'].str.contains(pattern, regex = True)]['customer_name'].drop_duplicates()"
   ],
   "id": "1c4622722336ce35",
   "outputs": [
    {
     "data": {
      "text/plain": [
       "3          Sean O'Donnell\n",
       "46      Patrick O'Donnell\n",
       "282         Jas O'Carroll\n",
       "326       Patrick O'Brill\n",
       "404       Roy Franz�sisch\n",
       "494          Rose O'Brian\n",
       "626          Meg O'Connel\n",
       "668          Resi P�lking\n",
       "748          Peter B�hler\n",
       "759     Barry Franz�sisch\n",
       "1041        Mary O'Rourke\n",
       "1489           Corey-Lock\n",
       "2631       Jason Fortune-\n",
       "3023            Joy Bell-\n",
       "3444        Jack O'Briant\n",
       "3446        Anna H�berlin\n",
       "3502    Russell D'Ascenzo\n",
       "4236     Neil Franz�sisch\n",
       "5837       Doug O'Connell\n",
       "6133    Anthony O'Donnell\n",
       "Name: customer_name, dtype: object"
      ]
     },
     "execution_count": 8,
     "metadata": {},
     "output_type": "execute_result"
    }
   ],
   "execution_count": 8
  },
  {
   "metadata": {
    "ExecuteTime": {
     "end_time": "2024-09-19T16:43:49.248827Z",
     "start_time": "2024-09-19T16:43:49.242544Z"
    }
   },
   "cell_type": "code",
   "source": [
    "# There are two names with a '-' on the right end. Let's remove them.\n",
    "\n",
    "# Removing the dash from the right end of last names\n",
    "ss['customer_name'] = ss['customer_name'].str.strip('-')"
   ],
   "id": "b9bfd2eca5932337",
   "outputs": [],
   "execution_count": 9
  },
  {
   "metadata": {
    "ExecuteTime": {
     "end_time": "2024-09-19T16:43:49.358851Z",
     "start_time": "2024-09-19T16:43:49.350017Z"
    }
   },
   "cell_type": "code",
   "source": [
    "# Verify fixed names\n",
    "ss[ss['customer_name'].isin(['Jason Fortune', 'Joy Bell'])]['customer_name'].drop_duplicates()"
   ],
   "id": "4485fa0beaaced1e",
   "outputs": [
    {
     "data": {
      "text/plain": [
       "2631    Jason Fortune\n",
       "3023         Joy Bell\n",
       "Name: customer_name, dtype: object"
      ]
     },
     "execution_count": 10,
     "metadata": {},
     "output_type": "execute_result"
    }
   ],
   "execution_count": 10
  },
  {
   "metadata": {
    "ExecuteTime": {
     "end_time": "2024-09-19T16:43:49.455523Z",
     "start_time": "2024-09-19T16:43:49.431151Z"
    }
   },
   "cell_type": "code",
   "source": [
    "# Fixing last names with junk characters\n",
    "ss['customer_name'] = ss['customer_name'].str.replace('Franz�sisch', 'Französisch')\n",
    "ss['customer_name'] = ss['customer_name'].str.replace('P�lking', 'Pölking')\n",
    "ss['customer_name'] = ss['customer_name'].str.replace('B�hler', 'Bühler')\n",
    "ss['customer_name'] = ss['customer_name'].str.replace('H�berlin', 'Hüberlin')\n",
    "\n",
    "ss[ss['customer_name'].str.contains(pattern, regex = True)]['customer_name'].drop_duplicates()"
   ],
   "id": "7fafe48eefdc3f83",
   "outputs": [
    {
     "data": {
      "text/plain": [
       "3          Sean O'Donnell\n",
       "46      Patrick O'Donnell\n",
       "282         Jas O'Carroll\n",
       "326       Patrick O'Brill\n",
       "404       Roy Französisch\n",
       "494          Rose O'Brian\n",
       "626          Meg O'Connel\n",
       "668          Resi Pölking\n",
       "748          Peter Bühler\n",
       "759     Barry Französisch\n",
       "1041        Mary O'Rourke\n",
       "1489           Corey-Lock\n",
       "3444        Jack O'Briant\n",
       "3446        Anna Hüberlin\n",
       "3502    Russell D'Ascenzo\n",
       "4236     Neil Französisch\n",
       "5837       Doug O'Connell\n",
       "6133    Anthony O'Donnell\n",
       "Name: customer_name, dtype: object"
      ]
     },
     "execution_count": 11,
     "metadata": {},
     "output_type": "execute_result"
    }
   ],
   "execution_count": 11
  },
  {
   "metadata": {
    "ExecuteTime": {
     "end_time": "2024-09-19T16:43:49.536392Z",
     "start_time": "2024-09-19T16:43:49.522648Z"
    }
   },
   "cell_type": "code",
   "source": [
    "# View product names with junk characters\n",
    "ss[ss['product_name'].str.contains(pattern, ' ')]['product_name']"
   ],
   "id": "10873b437224dc3e",
   "outputs": [
    {
     "data": {
      "text/plain": [
       "1       Hon Deluxe Fabric Upholstered Stacking Chairs,...\n",
       "2       Self-Adhesive Address Labels for Typewriters b...\n",
       "4                          Eldon Fold 'N Roll Cart System\n",
       "5       Eldon Expressions Wood and Plastic Desk Access...\n",
       "8       DXL Angle-View Binders with Locking Rings by S...\n",
       "                              ...                        \n",
       "9987    Logitech G430 Surround Sound Gaming Headset wi...\n",
       "9988                      Panasonic KX - TS880B Telephone\n",
       "9990    Tenex B1-RE Series Chair Mats for Low Pile Car...\n",
       "9992    It's Hot Message Books with Stickers, 2 3/4\" x 5\"\n",
       "9993    Acco 7-Outlet Masterpiece Power Center, Wihtou...\n",
       "Name: product_name, Length: 4766, dtype: object"
      ]
     },
     "execution_count": 12,
     "metadata": {},
     "output_type": "execute_result"
    }
   ],
   "execution_count": 12
  },
  {
   "metadata": {},
   "cell_type": "markdown",
   "source": "product_name is mostly fine but some products have a particular junk character '�' within it. Let's remove it. ",
   "id": "f0135e6a76ada445"
  },
  {
   "metadata": {
    "ExecuteTime": {
     "end_time": "2024-09-19T16:43:49.646507Z",
     "start_time": "2024-09-19T16:43:49.635124Z"
    }
   },
   "cell_type": "code",
   "source": [
    "# View products with '�'\n",
    "ss[ss['product_name'].str.contains('�', regex=True)]['product_name']"
   ],
   "id": "47f43e8a9644f006",
   "outputs": [
    {
     "data": {
      "text/plain": [
       "11          Konftel 250 Conference�phone�- Charcoal black\n",
       "26       Imation�8GB Mini TravelDrive USB 2.0�Flash Drive\n",
       "47      Imation�8gb Micro Traveldrive Usb 2.0�Flash Drive\n",
       "59      Imation�8gb Micro Traveldrive Usb 2.0�Flash Drive\n",
       "86      Logitech�LS21 Speaker System - PC Multimedia -...\n",
       "                              ...                        \n",
       "9803    Plantronics CS 50-USB -�headset�- Convertible,...\n",
       "9862    Imation�USB 2.0 Swivel�Flash Drive�USB�flash d...\n",
       "9949                          Maxell�LTO Ultrium - 800 GB\n",
       "9950               Logitech�MX Performance Wireless Mouse\n",
       "9960                KeyTronic�E03601U1 -�Keyboard�- Beige\n",
       "Name: product_name, Length: 278, dtype: object"
      ]
     },
     "execution_count": 13,
     "metadata": {},
     "output_type": "execute_result"
    }
   ],
   "execution_count": 13
  },
  {
   "metadata": {
    "ExecuteTime": {
     "end_time": "2024-09-19T16:43:49.796540Z",
     "start_time": "2024-09-19T16:43:49.778042Z"
    }
   },
   "cell_type": "code",
   "source": [
    "# Removes junk character from product names\n",
    "ss['product_name'] = ss['product_name'].str.replace('�', ' ')\n",
    "ss[ss['product_name'].str.contains(pattern, regex=True)]['product_name']"
   ],
   "id": "5a07f85e219388dd",
   "outputs": [
    {
     "data": {
      "text/plain": [
       "1       Hon Deluxe Fabric Upholstered Stacking Chairs,...\n",
       "2       Self-Adhesive Address Labels for Typewriters b...\n",
       "4                          Eldon Fold 'N Roll Cart System\n",
       "5       Eldon Expressions Wood and Plastic Desk Access...\n",
       "8       DXL Angle-View Binders with Locking Rings by S...\n",
       "                              ...                        \n",
       "9987    Logitech G430 Surround Sound Gaming Headset wi...\n",
       "9988                      Panasonic KX - TS880B Telephone\n",
       "9990    Tenex B1-RE Series Chair Mats for Low Pile Car...\n",
       "9992    It's Hot Message Books with Stickers, 2 3/4\" x 5\"\n",
       "9993    Acco 7-Outlet Masterpiece Power Center, Wihtou...\n",
       "Name: product_name, Length: 4688, dtype: object"
      ]
     },
     "execution_count": 14,
     "metadata": {},
     "output_type": "execute_result"
    }
   ],
   "execution_count": 14
  },
  {
   "metadata": {},
   "cell_type": "markdown",
   "source": "# Exploratory Data Analysis (EDA)",
   "id": "4a7bb2bd3d872931"
  },
  {
   "metadata": {},
   "cell_type": "markdown",
   "source": "## Descriptive Statistics",
   "id": "125f2a9d9aa72b19"
  },
  {
   "metadata": {
    "ExecuteTime": {
     "end_time": "2024-09-19T16:43:49.952335Z",
     "start_time": "2024-09-19T16:43:49.925399Z"
    }
   },
   "cell_type": "code",
   "source": [
    "# Summary statistics of numerical fields\n",
    "ss.describe()"
   ],
   "id": "9c4a006f7fb81359",
   "outputs": [
    {
     "data": {
      "text/plain": [
       "            row_id                     order_date  \\\n",
       "count  9994.000000                           9994   \n",
       "mean   4997.500000  2016-04-30 00:07:12.259355648   \n",
       "min       1.000000            2014-01-03 00:00:00   \n",
       "25%    2499.250000            2015-05-23 00:00:00   \n",
       "50%    4997.500000            2016-06-26 00:00:00   \n",
       "75%    7495.750000            2017-05-14 00:00:00   \n",
       "max    9994.000000            2017-12-30 00:00:00   \n",
       "std    2885.163629                            NaN   \n",
       "\n",
       "                           ship_date   postal_code         sales     quantity  \\\n",
       "count                           9994   9994.000000   9994.000000  9994.000000   \n",
       "mean   2016-05-03 23:06:58.571142912  55190.379428    229.857980     3.789574   \n",
       "min              2014-01-07 00:00:00   1040.000000      0.440000     1.000000   \n",
       "25%              2015-05-27 00:00:00  23223.000000     17.280000     2.000000   \n",
       "50%              2016-06-29 00:00:00  56430.500000     54.490000     3.000000   \n",
       "75%              2017-05-18 00:00:00  90008.000000    209.940000     5.000000   \n",
       "max              2018-01-05 00:00:00  99301.000000  22638.480000    14.000000   \n",
       "std                              NaN  32063.693350    623.245104     2.225110   \n",
       "\n",
       "          discount       profit  \n",
       "count  9994.000000  9994.000000  \n",
       "mean      0.156203    28.656848  \n",
       "min       0.000000 -6599.980000  \n",
       "25%       0.000000     1.730000  \n",
       "50%       0.200000     8.665000  \n",
       "75%       0.200000    29.360000  \n",
       "max       0.800000  8399.980000  \n",
       "std       0.206452   234.260149  "
      ],
      "text/html": [
       "<div>\n",
       "<style scoped>\n",
       "    .dataframe tbody tr th:only-of-type {\n",
       "        vertical-align: middle;\n",
       "    }\n",
       "\n",
       "    .dataframe tbody tr th {\n",
       "        vertical-align: top;\n",
       "    }\n",
       "\n",
       "    .dataframe thead th {\n",
       "        text-align: right;\n",
       "    }\n",
       "</style>\n",
       "<table border=\"1\" class=\"dataframe\">\n",
       "  <thead>\n",
       "    <tr style=\"text-align: right;\">\n",
       "      <th></th>\n",
       "      <th>row_id</th>\n",
       "      <th>order_date</th>\n",
       "      <th>ship_date</th>\n",
       "      <th>postal_code</th>\n",
       "      <th>sales</th>\n",
       "      <th>quantity</th>\n",
       "      <th>discount</th>\n",
       "      <th>profit</th>\n",
       "    </tr>\n",
       "  </thead>\n",
       "  <tbody>\n",
       "    <tr>\n",
       "      <th>count</th>\n",
       "      <td>9994.000000</td>\n",
       "      <td>9994</td>\n",
       "      <td>9994</td>\n",
       "      <td>9994.000000</td>\n",
       "      <td>9994.000000</td>\n",
       "      <td>9994.000000</td>\n",
       "      <td>9994.000000</td>\n",
       "      <td>9994.000000</td>\n",
       "    </tr>\n",
       "    <tr>\n",
       "      <th>mean</th>\n",
       "      <td>4997.500000</td>\n",
       "      <td>2016-04-30 00:07:12.259355648</td>\n",
       "      <td>2016-05-03 23:06:58.571142912</td>\n",
       "      <td>55190.379428</td>\n",
       "      <td>229.857980</td>\n",
       "      <td>3.789574</td>\n",
       "      <td>0.156203</td>\n",
       "      <td>28.656848</td>\n",
       "    </tr>\n",
       "    <tr>\n",
       "      <th>min</th>\n",
       "      <td>1.000000</td>\n",
       "      <td>2014-01-03 00:00:00</td>\n",
       "      <td>2014-01-07 00:00:00</td>\n",
       "      <td>1040.000000</td>\n",
       "      <td>0.440000</td>\n",
       "      <td>1.000000</td>\n",
       "      <td>0.000000</td>\n",
       "      <td>-6599.980000</td>\n",
       "    </tr>\n",
       "    <tr>\n",
       "      <th>25%</th>\n",
       "      <td>2499.250000</td>\n",
       "      <td>2015-05-23 00:00:00</td>\n",
       "      <td>2015-05-27 00:00:00</td>\n",
       "      <td>23223.000000</td>\n",
       "      <td>17.280000</td>\n",
       "      <td>2.000000</td>\n",
       "      <td>0.000000</td>\n",
       "      <td>1.730000</td>\n",
       "    </tr>\n",
       "    <tr>\n",
       "      <th>50%</th>\n",
       "      <td>4997.500000</td>\n",
       "      <td>2016-06-26 00:00:00</td>\n",
       "      <td>2016-06-29 00:00:00</td>\n",
       "      <td>56430.500000</td>\n",
       "      <td>54.490000</td>\n",
       "      <td>3.000000</td>\n",
       "      <td>0.200000</td>\n",
       "      <td>8.665000</td>\n",
       "    </tr>\n",
       "    <tr>\n",
       "      <th>75%</th>\n",
       "      <td>7495.750000</td>\n",
       "      <td>2017-05-14 00:00:00</td>\n",
       "      <td>2017-05-18 00:00:00</td>\n",
       "      <td>90008.000000</td>\n",
       "      <td>209.940000</td>\n",
       "      <td>5.000000</td>\n",
       "      <td>0.200000</td>\n",
       "      <td>29.360000</td>\n",
       "    </tr>\n",
       "    <tr>\n",
       "      <th>max</th>\n",
       "      <td>9994.000000</td>\n",
       "      <td>2017-12-30 00:00:00</td>\n",
       "      <td>2018-01-05 00:00:00</td>\n",
       "      <td>99301.000000</td>\n",
       "      <td>22638.480000</td>\n",
       "      <td>14.000000</td>\n",
       "      <td>0.800000</td>\n",
       "      <td>8399.980000</td>\n",
       "    </tr>\n",
       "    <tr>\n",
       "      <th>std</th>\n",
       "      <td>2885.163629</td>\n",
       "      <td>NaN</td>\n",
       "      <td>NaN</td>\n",
       "      <td>32063.693350</td>\n",
       "      <td>623.245104</td>\n",
       "      <td>2.225110</td>\n",
       "      <td>0.206452</td>\n",
       "      <td>234.260149</td>\n",
       "    </tr>\n",
       "  </tbody>\n",
       "</table>\n",
       "</div>"
      ]
     },
     "execution_count": 15,
     "metadata": {},
     "output_type": "execute_result"
    }
   ],
   "execution_count": 15
  },
  {
   "metadata": {},
   "cell_type": "markdown",
   "source": "## Handling Outliers",
   "id": "9fc77d3bb10ffbcd"
  },
  {
   "metadata": {},
   "cell_type": "markdown",
   "source": "There are no outliers in this dataset!",
   "id": "3529a9468bfd4b2e"
  },
  {
   "metadata": {},
   "cell_type": "markdown",
   "source": "## Handling Missing Values",
   "id": "4c72e25cac6cfc5"
  },
  {
   "metadata": {
    "ExecuteTime": {
     "end_time": "2024-09-19T16:43:50.080925Z",
     "start_time": "2024-09-19T16:43:50.070072Z"
    }
   },
   "cell_type": "code",
   "source": [
    "# Total missing values from each field\n",
    "ss.isnull().sum()"
   ],
   "id": "e93efd8d3b5408ad",
   "outputs": [
    {
     "data": {
      "text/plain": [
       "row_id           0\n",
       "order_id         0\n",
       "order_date       0\n",
       "ship_date        0\n",
       "ship_mode        0\n",
       "customer_id      0\n",
       "customer_name    0\n",
       "segment          0\n",
       "country          0\n",
       "city             0\n",
       "state            0\n",
       "postal_code      0\n",
       "region           0\n",
       "product_id       0\n",
       "category         0\n",
       "sub_category     0\n",
       "product_name     0\n",
       "sales            0\n",
       "quantity         0\n",
       "discount         0\n",
       "profit           0\n",
       "dtype: int64"
      ]
     },
     "execution_count": 16,
     "metadata": {},
     "output_type": "execute_result"
    }
   ],
   "execution_count": 16
  },
  {
   "metadata": {},
   "cell_type": "markdown",
   "source": "No missing values were found in this dataset!",
   "id": "fa861ddaeee14b49"
  },
  {
   "metadata": {},
   "cell_type": "markdown",
   "source": "## Viewing date ranges",
   "id": "cd56bb65e5bb3b30"
  },
  {
   "metadata": {
    "ExecuteTime": {
     "end_time": "2024-09-19T16:43:50.239357Z",
     "start_time": "2024-09-19T16:43:50.226981Z"
    }
   },
   "cell_type": "code",
   "source": [
    "# View date range\n",
    "ss[['order_date', 'ship_date']].describe()"
   ],
   "id": "54e0abaf0e047907",
   "outputs": [
    {
     "data": {
      "text/plain": [
       "                          order_date                      ship_date\n",
       "count                           9994                           9994\n",
       "mean   2016-04-30 00:07:12.259355648  2016-05-03 23:06:58.571142912\n",
       "min              2014-01-03 00:00:00            2014-01-07 00:00:00\n",
       "25%              2015-05-23 00:00:00            2015-05-27 00:00:00\n",
       "50%              2016-06-26 00:00:00            2016-06-29 00:00:00\n",
       "75%              2017-05-14 00:00:00            2017-05-18 00:00:00\n",
       "max              2017-12-30 00:00:00            2018-01-05 00:00:00"
      ],
      "text/html": [
       "<div>\n",
       "<style scoped>\n",
       "    .dataframe tbody tr th:only-of-type {\n",
       "        vertical-align: middle;\n",
       "    }\n",
       "\n",
       "    .dataframe tbody tr th {\n",
       "        vertical-align: top;\n",
       "    }\n",
       "\n",
       "    .dataframe thead th {\n",
       "        text-align: right;\n",
       "    }\n",
       "</style>\n",
       "<table border=\"1\" class=\"dataframe\">\n",
       "  <thead>\n",
       "    <tr style=\"text-align: right;\">\n",
       "      <th></th>\n",
       "      <th>order_date</th>\n",
       "      <th>ship_date</th>\n",
       "    </tr>\n",
       "  </thead>\n",
       "  <tbody>\n",
       "    <tr>\n",
       "      <th>count</th>\n",
       "      <td>9994</td>\n",
       "      <td>9994</td>\n",
       "    </tr>\n",
       "    <tr>\n",
       "      <th>mean</th>\n",
       "      <td>2016-04-30 00:07:12.259355648</td>\n",
       "      <td>2016-05-03 23:06:58.571142912</td>\n",
       "    </tr>\n",
       "    <tr>\n",
       "      <th>min</th>\n",
       "      <td>2014-01-03 00:00:00</td>\n",
       "      <td>2014-01-07 00:00:00</td>\n",
       "    </tr>\n",
       "    <tr>\n",
       "      <th>25%</th>\n",
       "      <td>2015-05-23 00:00:00</td>\n",
       "      <td>2015-05-27 00:00:00</td>\n",
       "    </tr>\n",
       "    <tr>\n",
       "      <th>50%</th>\n",
       "      <td>2016-06-26 00:00:00</td>\n",
       "      <td>2016-06-29 00:00:00</td>\n",
       "    </tr>\n",
       "    <tr>\n",
       "      <th>75%</th>\n",
       "      <td>2017-05-14 00:00:00</td>\n",
       "      <td>2017-05-18 00:00:00</td>\n",
       "    </tr>\n",
       "    <tr>\n",
       "      <th>max</th>\n",
       "      <td>2017-12-30 00:00:00</td>\n",
       "      <td>2018-01-05 00:00:00</td>\n",
       "    </tr>\n",
       "  </tbody>\n",
       "</table>\n",
       "</div>"
      ]
     },
     "execution_count": 17,
     "metadata": {},
     "output_type": "execute_result"
    }
   ],
   "execution_count": 17
  },
  {
   "metadata": {},
   "cell_type": "markdown",
   "source": [
    "order year range: 2014 - 2017\n",
    "\n",
    "ship year range: 2014 - 2018"
   ],
   "id": "3fa2a1056fe1b01d"
  },
  {
   "metadata": {
    "ExecuteTime": {
     "end_time": "2024-09-19T16:43:57.444193Z",
     "start_time": "2024-09-19T16:43:57.421641Z"
    }
   },
   "cell_type": "code",
   "source": [
    "# Original row count: 9994\n",
    "\n",
    "# Drop duplicate rows after cleaning\n",
    "ss.drop_duplicates(inplace=True)\n",
    "ss.shape"
   ],
   "id": "823523027d09cf77",
   "outputs": [
    {
     "data": {
      "text/plain": [
       "(9994, 21)"
      ]
     },
     "execution_count": 18,
     "metadata": {},
     "output_type": "execute_result"
    }
   ],
   "execution_count": 18
  },
  {
   "metadata": {},
   "cell_type": "markdown",
   "source": "# Export Cleaned Dataset",
   "id": "eb391cecc0e2d29c"
  },
  {
   "metadata": {},
   "cell_type": "code",
   "outputs": [],
   "execution_count": null,
   "source": [
    "# Export to CSV file\n",
    "ss.to_csv('superstore (cleaned).csv')"
   ],
   "id": "d91ab7e38e4cba5"
  }
 ],
 "metadata": {
  "kernelspec": {
   "display_name": "Python 3",
   "language": "python",
   "name": "python3"
  },
  "language_info": {
   "codemirror_mode": {
    "name": "ipython",
    "version": 2
   },
   "file_extension": ".py",
   "mimetype": "text/x-python",
   "name": "python",
   "nbconvert_exporter": "python",
   "pygments_lexer": "ipython2",
   "version": "2.7.6"
  }
 },
 "nbformat": 4,
 "nbformat_minor": 5
}
